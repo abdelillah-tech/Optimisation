{
 "cells": [
  {
   "cell_type": "markdown",
   "metadata": {},
   "source": [
    "exercice 101:\n",
    "---------------"
   ]
  },
  {
   "cell_type": "code",
   "execution_count": 24,
   "metadata": {},
   "outputs": [],
   "source": [
    "from scipy import optimize\n",
    "import numpy as np\n",
    "\n",
    "#rosenbrock's parabolic valey\n",
    "def f1(x):\n",
    "    return 100*(x[1] - x[0]**2)**2 + (1 - x[0])**2\n",
    "\n",
    "#quadratic function\n",
    "def f2(x):\n",
    "    #x = [0,0]^t\n",
    "    return (-7 + 2*x[1] + x[0])**2 + (2*x[0] + x[1] - 5)**2\n",
    "\n",
    "#powell's quadratic function\n",
    "def f3(x):\n",
    "    #x = [3,-1,0,1]^t\n",
    "    return ((x[0] + 10*x[2])**2 + 5*(x[2] - x[3])**2 \n",
    "            + (x[1] - 2*x[2])**4 + 10*(x[0] - x[3])**4)\n",
    "\n",
    "#fletcher and powell's helical valley\n",
    "def f4(x):\n",
    "    #x = [-1,0,0]^t\n",
    "    if x[0] > 0 :\n",
    "        return 100*((x[2] + (5/np.pi)*np.arctan(x[1]/x[0]))**2 \n",
    "                    + (np.sqrt(x[0]**2 + x[1]**2) - 1)**2) + x[2]**2\n",
    "    elif(x[0] < 0):\n",
    "        return 100*((x[2] + (5/np.pi)*(np.pi + np.arctan(x[1]/x[0])))**2 \n",
    "                    + (np.sqrt(x[0]**2 + x[1]**2) - 1)**2) + x[2]**2\n",
    "    else:\n",
    "        return null\n",
    "\n",
    "#a non-linear function of three variables\n",
    "def f5(x):\n",
    "    #x = [0,1,2]^t\n",
    "    return ((1 / (x[0] - x[1])**2) + np.sin(0.5 * np.pi * x[1] * x[2]) \n",
    "            + np.exp(-1 * ((x[0] + x[2]) / x[1] - 2)**2))\n",
    "\n",
    "#freudenstein and roth function\n",
    "def f6(x):\n",
    "    #x = [0.5,-2]^t\n",
    "    return ((-13 + x[0] + ((5 - x[1]) * x[1] - 2) * x[1])**2 \n",
    "            + (-29 + x[0] + ((x[1] + 1) * x[1] - 14) * x[1])**2)\n",
    "\n",
    "#powell's badly scaled function\n",
    "def f7(x):\n",
    "    #x = [0,1]^t\n",
    "    return (10000*x[1]*x[0] - 1)**2 + (np.exp(-x[0]) + np.exp(-x[1]) - 1.0001)**2"
   ]
  },
  {
   "cell_type": "markdown",
   "metadata": {},
   "source": [
    "rosenbrock's parabolic valey"
   ]
  },
  {
   "cell_type": "code",
   "execution_count": 38,
   "metadata": {},
   "outputs": [
    {
     "data": {
      "text/plain": [
       "     fun: 1.0377824021054427e-11\n",
       "     jac: array([4.63150166e-07, 1.02482420e-06])\n",
       " message: 'Optimization terminated successfully.'\n",
       "    nfev: 373\n",
       "     nit: 37\n",
       "    njev: 93\n",
       "  status: 0\n",
       " success: True\n",
       "       x: array([0.99999678, 0.99999355])"
      ]
     },
     "execution_count": 38,
     "metadata": {},
     "output_type": "execute_result"
    }
   ],
   "source": [
    "#simplex\n",
    "optimize.minimize(f1, [-1.2, 1.0], method=\"Nelder-Mead\")"
   ]
  },
  {
   "cell_type": "markdown",
   "metadata": {},
   "source": [
    "quadratic function"
   ]
  },
  {
   "cell_type": "code",
   "execution_count": 40,
   "metadata": {},
   "outputs": [
    {
     "data": {
      "text/plain": [
       "     fun: 6.570337128036973e-15\n",
       "     jac: array([-2.68490021e-07, -2.70274219e-07])\n",
       " message: 'Optimization terminated successfully.'\n",
       "    nfev: 20\n",
       "     nit: 2\n",
       "    njev: 5\n",
       "  status: 0\n",
       " success: True\n",
       "       x: array([0.99999998, 2.99999998])"
      ]
     },
     "execution_count": 40,
     "metadata": {},
     "output_type": "execute_result"
    }
   ],
   "source": [
    "#conjugate gradient\n",
    "optimize.minimize(f2, [0.0, 0.0], method=\"CG\")"
   ]
  },
  {
   "cell_type": "markdown",
   "metadata": {},
   "source": [
    "powell's quadratic function"
   ]
  },
  {
   "cell_type": "code",
   "execution_count": 41,
   "metadata": {},
   "outputs": [
    {
     "data": {
      "text/plain": [
       "     fun: 8.92884849283779e-09\n",
       "     jac: array([-1.31115460e-06, -3.57334745e-06,  1.36396104e-06,  1.49400206e-07])\n",
       " message: 'Optimization terminated successfully.'\n",
       "    nfev: 678\n",
       "     nit: 55\n",
       "    njev: 113\n",
       "  status: 0\n",
       " success: True\n",
       "       x: array([-0.00217054, -0.00919699,  0.00021702,  0.00021697])"
      ]
     },
     "execution_count": 41,
     "metadata": {},
     "output_type": "execute_result"
    }
   ],
   "source": [
    "#conjugate gradient\n",
    "optimize.minimize(f3, [3.0, -1.0, 0.0, 1.0], method=\"CG\")"
   ]
  },
  {
   "cell_type": "markdown",
   "metadata": {},
   "source": [
    "fletcher and powell's helical valley"
   ]
  },
  {
   "cell_type": "code",
   "execution_count": 42,
   "metadata": {},
   "outputs": [
    {
     "data": {
      "text/plain": [
       "     fun: 4.00928087400238e-12\n",
       "     jac: array([ 1.61814089e-06,  2.51745667e-06, -3.28864993e-06])\n",
       " message: 'Optimization terminated successfully.'\n",
       "    nfev: 315\n",
       "     nit: 34\n",
       "    njev: 63\n",
       "  status: 0\n",
       " success: True\n",
       "       x: array([ 1.00000000e+00,  1.25536159e-06, -2.00191916e-06])"
      ]
     },
     "execution_count": 42,
     "metadata": {},
     "output_type": "execute_result"
    }
   ],
   "source": [
    "#conjugate gradient\n",
    "optimize.minimize(f4, [-1.0, 0.0, 0.0], method=\"CG\")"
   ]
  },
  {
   "cell_type": "markdown",
   "metadata": {},
   "source": [
    "a non-linear function of three variables"
   ]
  },
  {
   "cell_type": "code",
   "execution_count": 43,
   "metadata": {},
   "outputs": [
    {
     "data": {
      "text/plain": [
       "     fun: -0.9998897407637607\n",
       "     jac: array([ 3.01003456e-06, -9.68575478e-07,  9.01520252e-07])\n",
       " message: 'Optimization terminated successfully.'\n",
       "    nfev: 1370\n",
       "     nit: 107\n",
       "    njev: 274\n",
       "  status: 0\n",
       " success: True\n",
       "       x: array([-58.48887948,  38.79733339,   0.07732489])"
      ]
     },
     "execution_count": 43,
     "metadata": {},
     "output_type": "execute_result"
    }
   ],
   "source": [
    "#conjugate gradient\n",
    "optimize.minimize(f5, [0.0, 1.0, 2.0], method=\"CG\")"
   ]
  },
  {
   "cell_type": "code",
   "execution_count": 51,
   "metadata": {},
   "outputs": [
    {
     "data": {
      "text/plain": [
       " active_mask: array([0., 0., 0.])\n",
       "        cost: 2.4823085849432262e-15\n",
       "         fun: array([7.04600395e-08])\n",
       "        grad: array([1.20432100e-08, 2.74308101e-07, 3.34435562e-07])\n",
       "         jac: array([[0.17092256, 3.89310173, 4.7464572 ]])\n",
       "     message: '`xtol` termination condition is satisfied.'\n",
       "        nfev: 32\n",
       "        njev: 14\n",
       "  optimality: 3.3443556225375505e-07\n",
       "      status: 3\n",
       "     success: True\n",
       "           x: array([-0.77954314,  3.00652138,  2.61503997])"
      ]
     },
     "execution_count": 51,
     "metadata": {},
     "output_type": "execute_result"
    }
   ],
   "source": [
    "#non-linear least squares\n",
    "optimize.least_squares(f5, [0.0, 1.0, 2.0])"
   ]
  },
  {
   "cell_type": "markdown",
   "metadata": {},
   "source": [
    "freudenstein and roth function"
   ]
  },
  {
   "cell_type": "code",
   "execution_count": 44,
   "metadata": {},
   "outputs": [
    {
     "data": {
      "text/plain": [
       "     fun: 48.984253679257264\n",
       "     jac: array([5.72204590e-06, 4.76837158e-07])\n",
       " message: 'Optimization terminated successfully.'\n",
       "    nfev: 164\n",
       "     nit: 17\n",
       "    njev: 41\n",
       "  status: 0\n",
       " success: True\n",
       "       x: array([11.41278545, -0.89680488])"
      ]
     },
     "execution_count": 44,
     "metadata": {},
     "output_type": "execute_result"
    }
   ],
   "source": [
    "#conjugate gradient\n",
    "optimize.minimize(f6, [0.5, -2.0], method=\"CG\")"
   ]
  },
  {
   "cell_type": "markdown",
   "metadata": {},
   "source": [
    "powell's badly scaled function"
   ]
  },
  {
   "cell_type": "code",
   "execution_count": 107,
   "metadata": {},
   "outputs": [
    {
     "data": {
      "text/plain": [
       "      fun: 1.8060327333792216e-21\n",
       " hess_inv: array([[ 5.80438216e-05, -4.81308660e+01],\n",
       "       [-4.81308660e+01,  3.99109260e+07]])\n",
       "      jac: array([-1.89745817e-07, -2.38152296e-13])\n",
       "  message: 'Optimization terminated successfully.'\n",
       "     nfev: 198\n",
       "      nit: 156\n",
       "     njev: 198\n",
       "   status: 0\n",
       "  success: True\n",
       "        x: array([1.09815938e-05, 9.10614635e+00])"
      ]
     },
     "execution_count": 107,
     "metadata": {},
     "output_type": "execute_result"
    }
   ],
   "source": [
    "#Broyden–Fletcher–Goldfarb–Shanno algorithm (BFGS)\n",
    "\n",
    "def f7_der(x):\n",
    "    \"\"\"les dérivées partielles\"\"\"\n",
    "    der = np.zeros_like(x)\n",
    "    der[0] = (2 * 10000 * x[1] * (10000*x[1]*x[0] - 1) \n",
    "              - 2 * np.exp(-x[0]) * \n",
    "              (np.exp(-x[0]) + np.exp(-x[1]) - 1.0001))\n",
    "    der[-1] = (2 * 10000 * x[0] * (10000*x[1]*x[0] - 1) \n",
    "               - 2 * np.exp(-x[1]) * \n",
    "               (np.exp(-x[0]) + np.exp(-x[1]) - 1.0001))\n",
    "    return der\n",
    "\n",
    "optimize.minimize(f7, [0.0, 1.0], method=\"BFGS\", jac = f7_der)"
   ]
  }
 ],
 "metadata": {
  "kernelspec": {
   "display_name": "Python 3",
   "language": "python",
   "name": "python3"
  },
  "language_info": {
   "codemirror_mode": {
    "name": "ipython",
    "version": 3
   },
   "file_extension": ".py",
   "mimetype": "text/x-python",
   "name": "python",
   "nbconvert_exporter": "python",
   "pygments_lexer": "ipython3",
   "version": "3.7.3"
  }
 },
 "nbformat": 4,
 "nbformat_minor": 2
}
